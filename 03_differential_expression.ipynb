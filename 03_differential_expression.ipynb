{
 "cells": [
  {
   "cell_type": "code",
   "execution_count": 1,
   "id": "e3702437-b599-47c0-ab79-22e6adca5e74",
   "metadata": {},
   "outputs": [
    {
     "data": {
      "text/plain": [
       "DataTransformerRegistry.enable('default')"
      ]
     },
     "execution_count": 1,
     "metadata": {},
     "output_type": "execute_result"
    }
   ],
   "source": [
    "import altair as alt\n",
    "import numpy as np\n",
    "import oscutils\n",
    "import scipy\n",
    "import statsmodels.stats.multitest\n",
    "\n",
    "alt.data_transformers.disable_max_rows()"
   ]
  },
  {
   "cell_type": "code",
   "execution_count": 2,
   "id": "130c9ae8-4865-4f8d-abdb-e1f4b9aea663",
   "metadata": {
    "tags": []
   },
   "outputs": [],
   "source": [
    "inputs = {}\n",
    "\n",
    "for source in [\"mm\", \"pd\"]:\n",
    "    df = oscutils.\\\n",
    "    load_protein_table(source, \"quant\", clean=True).\\\n",
    "    drop(columns=[\"sample\", \"FileName\"]).\\\n",
    "    set_index([\"sample_type\", \"sample_condition\", \"sample_num\"])\n",
    "    \n",
    "    inputs[source] = df"
   ]
  },
  {
   "cell_type": "markdown",
   "id": "640c9bef-8f0f-4f49-8d3f-9dc572450ebb",
   "metadata": {
    "tags": []
   },
   "source": [
    "## Use Mann-Whitney U test to test for differential expression"
   ]
  },
  {
   "cell_type": "code",
   "execution_count": 3,
   "id": "7bb35826-1694-486a-9dac-45bb7a288142",
   "metadata": {
    "tags": []
   },
   "outputs": [],
   "source": [
    "def diff_expr_test(inputs_dict):\n",
    "    \n",
    "    results = {}\n",
    "    \n",
    "    for source in inputs_dict.keys():\n",
    "        df = inputs_dict[source]\n",
    "\n",
    "        sample_types = []\n",
    "        prots = []\n",
    "        pvals = []\n",
    "        fcs = []\n",
    "\n",
    "        for sample_type in df.index.get_level_values(\"sample_type\").unique():\n",
    "            healthy = df.xs((sample_type, \"healthy\"), level=(\"sample_type\", \"sample_condition\"), drop_level=True)\n",
    "            unhealthy = df.xs((sample_type, \"unhealthy\"), level=(\"sample_type\", \"sample_condition\"), drop_level=True)\n",
    "\n",
    "            for prot in healthy.columns:\n",
    "                a = healthy[prot].dropna()\n",
    "                b = unhealthy[prot].dropna()\n",
    "\n",
    "                if sample_type in [\"boost\", \"pbulk\"]:\n",
    "                    min_count = 2\n",
    "                else:\n",
    "                    min_count = 15\n",
    "                    \n",
    "                if len(a) >= min_count and len(b) >= min_count:\n",
    "                    t, p = scipy.stats.mannwhitneyu(x=a, y=b)\n",
    "                else:\n",
    "                    p = np.nan\n",
    "                    \n",
    "                fc = np.log2(b.mean() / a.mean())\n",
    "\n",
    "                sample_types.append(sample_type)\n",
    "                prots.append(prot)\n",
    "                pvals.append(p)\n",
    "                fcs.append(fc)\n",
    "\n",
    "        raw_pvals = pd.DataFrame({\n",
    "            \"sample_type\": sample_types,\n",
    "            \"protein\": prots,\n",
    "            \"p_uncorrected\": pvals,\n",
    "            \"log2_fold_change\": fcs,\n",
    "        })\n",
    "\n",
    "        pvals = raw_pvals[raw_pvals[\"p_uncorrected\"].notna()]\n",
    "\n",
    "        # Correct the p values\n",
    "        reject, pvals_corrected, alphacSidak, alphacBonf = statsmodels.stats.multitest.multipletests(\n",
    "            pvals=pvals[\"p_uncorrected\"].dropna(),\n",
    "            alpha=0.05,\n",
    "            method=\"fdr_bh\",\n",
    "        )\n",
    "\n",
    "        pvals = pvals.assign(p_corrected=pvals_corrected) \n",
    "        \n",
    "        results[source] = {\n",
    "            \"pvals\": pvals,\n",
    "            \"raw_pvals\": raw_pvals,\n",
    "        }\n",
    "    \n",
    "    return results\n",
    "\n",
    "results = diff_expr_test(inputs)"
   ]
  },
  {
   "cell_type": "markdown",
   "id": "36092d7a-f5d9-4794-aed0-ce1b57f51946",
   "metadata": {},
   "source": [
    "Below are the results of the tests. Significantly more proteins had differential expression in the Proteome Discoverer data, which tracks since it found more proteins overall (whether all those additional abundances it found are valid is another question). A future thing to do could be to look up these proteins and see if there's anything interesting about them in the context of the experiment. "
   ]
  },
  {
   "cell_type": "code",
   "execution_count": 4,
   "id": "3ca86ac1-85a8-4e00-adbc-a191d1a4d4ef",
   "metadata": {
    "tags": []
   },
   "outputs": [
    {
     "name": "stdout",
     "output_type": "stream",
     "text": [
      "mm\n",
      "Number of proteins:  4335\n",
      "Number of proteins with significant differential expression before multiple testing correction:  189\n",
      "Number of proteins with significant differential expression after multiple testing correction:  12\n",
      "Smallest corrected p-value:  0.0004060466094914959\n",
      "Proteins with significant differential expression:\n",
      "      sample_type protein  p_uncorrected  log2_fold_change  p_corrected\n",
      "1681      hfl1sc  P02771   2.624690e-06         -0.919627     0.001656\n",
      "1878      hfl1sc  P01024   2.480848e-06         -0.634641     0.001656\n",
      "2170      hfl1sc  P05455   1.964795e-04          0.657920     0.045083\n",
      "2199      hfl1sc  P19823   1.485271e-06         -0.854549     0.001656\n",
      "2223      hfl1sc  O43854   8.894603e-05         -0.762977     0.024944\n",
      "2235      hfl1sc  P36551   2.236042e-04         -0.592636     0.047031\n",
      "2366      hfl1sc  Q9P0L0   1.274057e-05          0.347244     0.005360\n",
      "2394      hfl1sc  Q6UW68   1.607333e-04          0.831721     0.040569\n",
      "2395      hfl1sc  P01023   9.771447e-06         -0.766759     0.004933\n",
      "2432      hfl1sc  P19525   4.565967e-05          0.861848     0.014406\n",
      "2745      hfl1sc  Q14624   1.489721e-05         -0.699691     0.005372\n",
      "2833      hfl1sc  Q8N4C6   1.608743e-07         -1.102113     0.000406\n",
      "\n",
      "pd\n",
      "Number of proteins:  10089\n",
      "Number of proteins with significant differential expression before multiple testing correction:  349\n",
      "Number of proteins with significant differential expression after multiple testing correction:  43\n",
      "Smallest corrected p-value:  4.170644427252278e-09\n",
      "Proteins with significant differential expression:\n",
      "      sample_type protein  p_uncorrected  log2_fold_change   p_corrected\n",
      "3410      hfl1sc  P42704   4.838194e-06         -0.912832  6.446364e-04\n",
      "3489      hfl1sc  P34897   6.259705e-05         -1.374610  6.267529e-03\n",
      "3556      hfl1sc  P02788   1.931584e-05         -0.056210  2.090809e-03\n",
      "3557      hfl1sc  P01024   5.321146e-09         -1.355872  1.253599e-06\n",
      "3652      hfl1sc  P54136   1.747326e-05         -0.797547  1.998314e-03\n",
      "3768      hfl1sc  P04114   2.428150e-08         -1.132236  5.118284e-06\n",
      "3771      hfl1sc  Q96TA1   4.989695e-06         -1.585662  6.446364e-04\n",
      "3838      hfl1sc  P05089   6.120123e-05         -0.512810  6.267529e-03\n",
      "3954      hfl1sc  P01023   4.227503e-11         -1.149820  3.386230e-08\n",
      "3971      hfl1sc  P19823   9.465970e-12         -1.208635  1.263707e-08\n",
      "4063      hfl1sc  P68871   2.405157e-04         -0.123722  2.293489e-02\n",
      "4064      hfl1sc  P62081   1.041359e-12         -1.076658  4.170644e-09\n",
      "4109      hfl1sc  P69905   2.685742e-08         -0.855574  5.378198e-06\n",
      "4172      hfl1sc  Q06033   2.651680e-09         -1.264526  6.637487e-07\n",
      "4249      hfl1sc  P39748   2.565002e-06         -0.916852  3.668868e-04\n",
      "4269      hfl1sc  Q9UHB9   5.161713e-05         -0.987218  5.440174e-03\n",
      "4307      hfl1sc  Q9H845   1.109841e-07         -1.362636  2.020416e-05\n",
      "4352      hfl1sc  Q9H0A0   9.008933e-07         -1.035996  1.387722e-04\n",
      "4473      hfl1sc  P02771   3.097050e-11         -1.372320  3.100921e-08\n",
      "4518      hfl1sc  Q6YHK3   1.931996e-04         -0.853892  1.887230e-02\n",
      "4530      hfl1sc  P36955   1.796237e-05         -1.605550  1.998314e-03\n",
      "4647      hfl1sc  P61254   2.263697e-07         -0.969101  3.777544e-05\n",
      "4832      hfl1sc  P36551   2.214672e-09         -1.202621  6.208541e-07\n",
      "4850      hfl1sc  Q02750   2.302982e-08         -1.392179  5.118284e-06\n",
      "4947      hfl1sc  P0C0L4   1.858126e-10         -1.690948  8.268661e-08\n",
      "4968      hfl1sc  P01008   6.257424e-08         -1.005179  1.193380e-05\n",
      "4996      hfl1sc  P55809   1.120332e-05         -0.623350  1.319685e-03\n",
      "5012      hfl1sc  Q8TBC4   1.658310e-07         -1.232896  2.887622e-05\n",
      "5045      hfl1sc  Q13751   2.325296e-09         -1.216841  6.208541e-07\n",
      "5115      hfl1sc  Q9NQW7   4.717559e-06         -1.253674  6.446364e-04\n",
      "5254      hfl1sc  P04424   1.463881e-09         -0.981371  4.509879e-07\n",
      "5267      hfl1sc  Q9UHD1   5.531850e-07         -1.010346  8.862024e-05\n",
      "5442      hfl1sc  O43772   7.959790e-06         -1.246927  9.962175e-04\n",
      "5445      hfl1sc  O43854   8.449844e-11         -1.053056  4.230203e-08\n",
      "5501      hfl1sc  P02656   3.880399e-04         -0.224561  3.614186e-02\n",
      "5608      hfl1sc  P51884   1.066949e-05         -1.409600  1.294888e-03\n",
      "5635      hfl1sc  Q14624   1.030668e-09         -1.125715  3.439854e-07\n",
      "5903      hfl1sc  Q13488   8.449844e-11         -1.154286  4.230203e-08\n",
      "5984      hfl1sc  Q9BYN0   7.445028e-11         -1.410689  4.230203e-08\n",
      "6004      hfl1sc  Q15555   3.915774e-10         -1.077460  1.425698e-07\n",
      "6359      hfl1sc  Q8WUW1   5.505337e-12         -0.976023  1.102444e-08\n",
      "6501      hfl1sc  Q9H6S3   2.430230e-10         -1.085934  9.733071e-08\n",
      "6652      hfl1sc  Q9NW81   1.044409e-06         -0.662774  1.549207e-04\n",
      "\n"
     ]
    }
   ],
   "source": [
    "alpha = 0.05\n",
    "\n",
    "for source in inputs.keys():\n",
    "    print(source)\n",
    "    print(\"Number of proteins: \", results[source][\"raw_pvals\"].shape[0])\n",
    "    print(\"Number of proteins with significant differential expression before multiple testing correction: \", (results[source][\"pvals\"][\"p_uncorrected\"] <= alpha).sum())\n",
    "    print(\"Number of proteins with significant differential expression after multiple testing correction: \", (results[source][\"pvals\"][\"p_corrected\"] <= alpha).sum())\n",
    "    print(\"Smallest corrected p-value: \", results[source][\"pvals\"][\"p_corrected\"].min())\n",
    "    print(\"Proteins with significant differential expression:\\n\", results[source][\"pvals\"][results[source][\"pvals\"][\"p_corrected\"] <= alpha])\n",
    "    print()"
   ]
  }
 ],
 "metadata": {
  "kernelspec": {
   "display_name": "Python 3 (ipykernel)",
   "language": "python",
   "name": "python3"
  },
  "language_info": {
   "codemirror_mode": {
    "name": "ipython",
    "version": 3
   },
   "file_extension": ".py",
   "mimetype": "text/x-python",
   "name": "python",
   "nbconvert_exporter": "python",
   "pygments_lexer": "ipython3",
   "version": "3.10.11"
  }
 },
 "nbformat": 4,
 "nbformat_minor": 5
}
