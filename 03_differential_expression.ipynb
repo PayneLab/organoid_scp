{
 "cells": [
  {
   "cell_type": "code",
   "execution_count": 1,
   "id": "e3702437-b599-47c0-ab79-22e6adca5e74",
   "metadata": {},
   "outputs": [
    {
     "data": {
      "text/plain": [
       "DataTransformerRegistry.enable('default')"
      ]
     },
     "execution_count": 1,
     "metadata": {},
     "output_type": "execute_result"
    }
   ],
   "source": [
    "import altair as alt\n",
    "import numpy as np\n",
    "import oscutils\n",
    "import scipy\n",
    "import statsmodels.stats.multitest\n",
    "\n",
    "alt.data_transformers.disable_max_rows()"
   ]
  },
  {
   "cell_type": "code",
   "execution_count": 2,
   "id": "130c9ae8-4865-4f8d-abdb-e1f4b9aea663",
   "metadata": {
    "tags": []
   },
   "outputs": [],
   "source": [
    "inputs = {}\n",
    "\n",
    "for source in [\"mm\", \"pd\"]:\n",
    "    df = oscutils.\\\n",
    "    load_protein_table(source, \"quant\", clean=True).\\\n",
    "    drop(columns=\"sample\").\\\n",
    "    set_index([\"sample_type\", \"sample_condition\", \"sample_num\"])\n",
    "    \n",
    "    inputs[source] = df"
   ]
  },
  {
   "cell_type": "markdown",
   "id": "640c9bef-8f0f-4f49-8d3f-9dc572450ebb",
   "metadata": {
    "tags": []
   },
   "source": [
    "## t-test for differential expression"
   ]
  },
  {
   "cell_type": "code",
   "execution_count": null,
   "id": "7bb35826-1694-486a-9dac-45bb7a288142",
   "metadata": {
    "tags": []
   },
   "outputs": [],
   "source": [
    "def diff_expr_ttest(inputs_dict):\n",
    "    \n",
    "    results = {}\n",
    "    \n",
    "    for source in inputs_dict.keys():\n",
    "        df = inputs_dict[source]\n",
    "\n",
    "        sample_types = []\n",
    "        prots = []\n",
    "        pvals = []\n",
    "        fcs = []\n",
    "\n",
    "        for sample_type in df.index.get_level_values(\"sample_type\").unique():\n",
    "            healthy = df.xs((sample_type, \"healthy\"), level=(\"sample_type\", \"sample_condition\"), drop_level=True)\n",
    "            unhealthy = df.xs((sample_type, \"unhealthy\"), level=(\"sample_type\", \"sample_condition\"), drop_level=True)\n",
    "\n",
    "            for prot in healthy.columns:\n",
    "                a = healthy[prot].dropna()\n",
    "                b = unhealthy[prot].dropna()\n",
    "\n",
    "                if sample_type in [\"boost\", \"pbulk\"]:\n",
    "                    min_count = 2\n",
    "                else:\n",
    "                    min_coun = 15\n",
    "                    \n",
    "                if len(a) >= min_count and len(b) >= min_count:\n",
    "                    t, p = scipy.stats.mannwhitneyu(x=a, y=b)#, equal_var=True)\n",
    "                else:\n",
    "                    p = np.nan\n",
    "                    \n",
    "                fc = np.log2(b.mean() / a.mean())\n",
    "\n",
    "                sample_types.append(sample_type)\n",
    "                prots.append(prot)\n",
    "                pvals.append(p)\n",
    "                fcs.append(fc)\n",
    "\n",
    "        raw_pvals = pd.DataFrame({\n",
    "            \"sample_type\": sample_types,\n",
    "            \"protein\": prots,\n",
    "            \"p_uncorrected\": pvals,\n",
    "            \"log2_fold_change\": fcs,\n",
    "        })\n",
    "\n",
    "        pvals = raw_pvals[raw_pvals[\"p_uncorrected\"].notna()]\n",
    "\n",
    "        # Correct the p values\n",
    "        reject, pvals_corrected, alphacSidak, alphacBonf = statsmodels.stats.multitest.multipletests(\n",
    "            pvals=pvals[\"p_uncorrected\"].dropna(),\n",
    "            alpha=0.05,\n",
    "            method=\"fdr_bh\",\n",
    "        )\n",
    "\n",
    "        pvals = pvals.assign(p_corrected=pvals_corrected) \n",
    "        \n",
    "        results[source] = {\n",
    "            \"pvals\": pvals,\n",
    "            \"raw_pvals\": raw_pvals,\n",
    "        }\n",
    "    \n",
    "    return results\n",
    "\n",
    "results = diff_expr_ttest(inputs)"
   ]
  },
  {
   "cell_type": "code",
   "execution_count": null,
   "id": "3ca86ac1-85a8-4e00-adbc-a191d1a4d4ef",
   "metadata": {
    "tags": []
   },
   "outputs": [],
   "source": [
    "alpha = 0.05\n",
    "\n",
    "for source in sources:\n",
    "    print(source)\n",
    "    print(results[source][\"raw_pvals\"].shape)\n",
    "    print((results[source][\"pvals\"][\"p_uncorrected\"] <= alpha).sum())\n",
    "    print((results[source][\"pvals\"][\"p_corrected\"] <= alpha).sum())\n",
    "    print(results[source][\"pvals\"][\"p_corrected\"].min())\n",
    "    print(results[source][\"pvals\"][results[source][\"pvals\"][\"p_corrected\"] <= alpha])\n",
    "    print()"
   ]
  }
 ],
 "metadata": {
  "kernelspec": {
   "display_name": "Python 3 (ipykernel)",
   "language": "python",
   "name": "python3"
  },
  "language_info": {
   "codemirror_mode": {
    "name": "ipython",
    "version": 3
   },
   "file_extension": ".py",
   "mimetype": "text/x-python",
   "name": "python",
   "nbconvert_exporter": "python",
   "pygments_lexer": "ipython3",
   "version": "3.10.11"
  }
 },
 "nbformat": 4,
 "nbformat_minor": 5
}
