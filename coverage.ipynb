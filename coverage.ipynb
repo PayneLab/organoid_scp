{
 "cells": [
  {
   "cell_type": "code",
   "execution_count": 1,
   "id": "233a909e-5f66-4054-8bb8-31ebed42421b",
   "metadata": {
    "tags": []
   },
   "outputs": [],
   "source": [
    "import oscutils"
   ]
  },
  {
   "cell_type": "code",
   "execution_count": 2,
   "id": "7b37d698-60f6-45ec-ad7c-d7def531c04d",
   "metadata": {
    "tags": []
   },
   "outputs": [],
   "source": [
    "df = oscutils.load_table(\"mm\", \"AllQuantifiedProteinGroups\")\n",
    "a = 1"
   ]
  }
 ],
 "metadata": {
  "kernelspec": {
   "display_name": "Python 3 (ipykernel)",
   "language": "python",
   "name": "python3"
  },
  "language_info": {
   "codemirror_mode": {
    "name": "ipython",
    "version": 3
   },
   "file_extension": ".py",
   "mimetype": "text/x-python",
   "name": "python",
   "nbconvert_exporter": "python",
   "pygments_lexer": "ipython3",
   "version": "3.10.11"
  }
 },
 "nbformat": 4,
 "nbformat_minor": 5
}
