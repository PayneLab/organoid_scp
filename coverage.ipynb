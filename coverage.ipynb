{
 "cells": [
  {
   "cell_type": "code",
   "execution_count": 1,
   "id": "233a909e-5f66-4054-8bb8-31ebed42421b",
   "metadata": {
    "tags": []
   },
   "outputs": [],
   "source": [
    "import altair as alt\n",
    "import oscutils\n",
    "import pandas as pd\n",
    "\n",
    "pd.options.display.width = 224"
   ]
  },
  {
   "cell_type": "code",
   "execution_count": 2,
   "id": "bbb234ad-2f76-464c-bdf1-cbe33e1d87c2",
   "metadata": {
    "tags": []
   },
   "outputs": [
    {
     "data": {
      "text/html": [
       "\n",
       "<div id=\"altair-viz-6e703f2334ca438eb49fd3944c65c36f\"></div>\n",
       "<script type=\"text/javascript\">\n",
       "  var VEGA_DEBUG = (typeof VEGA_DEBUG == \"undefined\") ? {} : VEGA_DEBUG;\n",
       "  (function(spec, embedOpt){\n",
       "    let outputDiv = document.currentScript.previousElementSibling;\n",
       "    if (outputDiv.id !== \"altair-viz-6e703f2334ca438eb49fd3944c65c36f\") {\n",
       "      outputDiv = document.getElementById(\"altair-viz-6e703f2334ca438eb49fd3944c65c36f\");\n",
       "    }\n",
       "    const paths = {\n",
       "      \"vega\": \"https://cdn.jsdelivr.net/npm//vega@5?noext\",\n",
       "      \"vega-lib\": \"https://cdn.jsdelivr.net/npm//vega-lib?noext\",\n",
       "      \"vega-lite\": \"https://cdn.jsdelivr.net/npm//vega-lite@4.17.0?noext\",\n",
       "      \"vega-embed\": \"https://cdn.jsdelivr.net/npm//vega-embed@6?noext\",\n",
       "    };\n",
       "\n",
       "    function maybeLoadScript(lib, version) {\n",
       "      var key = `${lib.replace(\"-\", \"\")}_version`;\n",
       "      return (VEGA_DEBUG[key] == version) ?\n",
       "        Promise.resolve(paths[lib]) :\n",
       "        new Promise(function(resolve, reject) {\n",
       "          var s = document.createElement('script');\n",
       "          document.getElementsByTagName(\"head\")[0].appendChild(s);\n",
       "          s.async = true;\n",
       "          s.onload = () => {\n",
       "            VEGA_DEBUG[key] = version;\n",
       "            return resolve(paths[lib]);\n",
       "          };\n",
       "          s.onerror = () => reject(`Error loading script: ${paths[lib]}`);\n",
       "          s.src = paths[lib];\n",
       "        });\n",
       "    }\n",
       "\n",
       "    function showError(err) {\n",
       "      outputDiv.innerHTML = `<div class=\"error\" style=\"color:red;\">${err}</div>`;\n",
       "      throw err;\n",
       "    }\n",
       "\n",
       "    function displayChart(vegaEmbed) {\n",
       "      vegaEmbed(outputDiv, spec, embedOpt)\n",
       "        .catch(err => showError(`Javascript Error: ${err.message}<br>This usually means there's a typo in your chart specification. See the javascript console for the full traceback.`));\n",
       "    }\n",
       "\n",
       "    if(typeof define === \"function\" && define.amd) {\n",
       "      requirejs.config({paths});\n",
       "      require([\"vega-embed\"], displayChart, err => showError(`Error loading script: ${err.message}`));\n",
       "    } else {\n",
       "      maybeLoadScript(\"vega\", \"5\")\n",
       "        .then(() => maybeLoadScript(\"vega-lite\", \"4.17.0\"))\n",
       "        .then(() => maybeLoadScript(\"vega-embed\", \"6\"))\n",
       "        .catch(showError)\n",
       "        .then(() => displayChart(vegaEmbed));\n",
       "    }\n",
       "  })({\"config\": {\"view\": {\"continuousWidth\": 400, \"continuousHeight\": 300}}, \"data\": {\"name\": \"data-fc8f914abdea9e3ccf501bf4496f2f51\"}, \"mark\": \"bar\", \"encoding\": {\"color\": {\"field\": \"bad_or_np\", \"type\": \"nominal\"}, \"x\": {\"field\": \"sample\", \"type\": \"nominal\"}, \"y\": {\"field\": \"quant_proteins_count\", \"type\": \"quantitative\"}}, \"$schema\": \"https://vega.github.io/schema/vega-lite/v4.17.0.json\", \"datasets\": {\"data-fc8f914abdea9e3ccf501bf4496f2f51\": [{\"sample\": \"blank_1\", \"bad\": false, \"np\": false, \"quant_proteins_count\": 23, \"bad_or_np\": false}, {\"sample\": \"hfl1_healthy_5\", \"bad\": false, \"np\": true, \"quant_proteins_count\": 31, \"bad_or_np\": true}, {\"sample\": \"qc_4\", \"bad\": false, \"np\": false, \"quant_proteins_count\": 44, \"bad_or_np\": false}, {\"sample\": \"blank_2\", \"bad\": false, \"np\": false, \"quant_proteins_count\": 46, \"bad_or_np\": false}, {\"sample\": \"hfl1_unhealthy_26\", \"bad\": false, \"np\": true, \"quant_proteins_count\": 386, \"bad_or_np\": true}, {\"sample\": \"hfl1_unhealthy_29\", \"bad\": false, \"np\": true, \"quant_proteins_count\": 386, \"bad_or_np\": true}, {\"sample\": \"hfl1_unhealthy_36\", \"bad\": false, \"np\": true, \"quant_proteins_count\": 402, \"bad_or_np\": true}, {\"sample\": \"hfl1_unhealthy_33\", \"bad\": false, \"np\": true, \"quant_proteins_count\": 407, \"bad_or_np\": true}, {\"sample\": \"hfl1_unhealthy_31\", \"bad\": false, \"np\": true, \"quant_proteins_count\": 410, \"bad_or_np\": true}, {\"sample\": \"hfl1_unhealthy_27\", \"bad\": false, \"np\": true, \"quant_proteins_count\": 426, \"bad_or_np\": true}, {\"sample\": \"hfl1_healthy_34\", \"bad\": false, \"np\": true, \"quant_proteins_count\": 429, \"bad_or_np\": true}, {\"sample\": \"hfl1_healthy_21\", \"bad\": false, \"np\": true, \"quant_proteins_count\": 436, \"bad_or_np\": true}, {\"sample\": \"hfl1_unhealthy_40\", \"bad\": false, \"np\": true, \"quant_proteins_count\": 437, \"bad_or_np\": true}, {\"sample\": \"hfl1_unhealthy_32\", \"bad\": false, \"np\": true, \"quant_proteins_count\": 448, \"bad_or_np\": true}, {\"sample\": \"hfl1_unhealthy_16\", \"bad\": false, \"np\": false, \"quant_proteins_count\": 449, \"bad_or_np\": false}, {\"sample\": \"hfl1_healthy_30\", \"bad\": false, \"np\": false, \"quant_proteins_count\": 472, \"bad_or_np\": false}, {\"sample\": \"hfl1_unhealthy_23\", \"bad\": false, \"np\": true, \"quant_proteins_count\": 473, \"bad_or_np\": true}, {\"sample\": \"hfl1_healthy_38\", \"bad\": false, \"np\": true, \"quant_proteins_count\": 482, \"bad_or_np\": true}, {\"sample\": \"hfl1_unhealthy_22\", \"bad\": false, \"np\": true, \"quant_proteins_count\": 489, \"bad_or_np\": true}, {\"sample\": \"hfl1_unhealthy_39\", \"bad\": false, \"np\": false, \"quant_proteins_count\": 499, \"bad_or_np\": false}, {\"sample\": \"hfl1_unhealthy_43\", \"bad\": false, \"np\": true, \"quant_proteins_count\": 511, \"bad_or_np\": true}, {\"sample\": \"hfl1_unhealthy_30\", \"bad\": false, \"np\": true, \"quant_proteins_count\": 552, \"bad_or_np\": true}, {\"sample\": \"hfl1_unhealthy_7\", \"bad\": false, \"np\": false, \"quant_proteins_count\": 709, \"bad_or_np\": false}, {\"sample\": \"hfl1_unhealthy_45\", \"bad\": false, \"np\": false, \"quant_proteins_count\": 720, \"bad_or_np\": false}, {\"sample\": \"hfl1_healthy_17\", \"bad\": false, \"np\": false, \"quant_proteins_count\": 787, \"bad_or_np\": false}, {\"sample\": \"hfl1_healthy_14\", \"bad\": false, \"np\": false, \"quant_proteins_count\": 818, \"bad_or_np\": false}, {\"sample\": \"hfl1_healthy_25\", \"bad\": false, \"np\": false, \"quant_proteins_count\": 821, \"bad_or_np\": false}, {\"sample\": \"hfl1_unhealthy_20\", \"bad\": false, \"np\": false, \"quant_proteins_count\": 851, \"bad_or_np\": false}, {\"sample\": \"hfl1_healthy_39\", \"bad\": false, \"np\": false, \"quant_proteins_count\": 902, \"bad_or_np\": false}, {\"sample\": \"hfl1_unhealthy_11\", \"bad\": false, \"np\": false, \"quant_proteins_count\": 906, \"bad_or_np\": false}, {\"sample\": \"hfl1_unhealthy_24\", \"bad\": false, \"np\": false, \"quant_proteins_count\": 927, \"bad_or_np\": false}, {\"sample\": \"hfl1_unhealthy_28\", \"bad\": false, \"np\": false, \"quant_proteins_count\": 953, \"bad_or_np\": false}, {\"sample\": \"hfl1_unhealthy_12\", \"bad\": true, \"np\": false, \"quant_proteins_count\": 955, \"bad_or_np\": true}, {\"sample\": \"hfl1_unhealthy_50\", \"bad\": false, \"np\": false, \"quant_proteins_count\": 976, \"bad_or_np\": false}, {\"sample\": \"hfl1_unhealthy_13\", \"bad\": false, \"np\": false, \"quant_proteins_count\": 1000, \"bad_or_np\": false}, {\"sample\": \"hfl1_unhealthy_6\", \"bad\": false, \"np\": false, \"quant_proteins_count\": 1003, \"bad_or_np\": false}, {\"sample\": \"hfl1_unhealthy_35\", \"bad\": false, \"np\": false, \"quant_proteins_count\": 1006, \"bad_or_np\": false}, {\"sample\": \"hfl1_healthy_37\", \"bad\": false, \"np\": false, \"quant_proteins_count\": 1013, \"bad_or_np\": false}, {\"sample\": \"hfl1_unhealthy_41\", \"bad\": false, \"np\": false, \"quant_proteins_count\": 1078, \"bad_or_np\": false}, {\"sample\": \"hfl1_healthy_13\", \"bad\": true, \"np\": false, \"quant_proteins_count\": 1083, \"bad_or_np\": true}, {\"sample\": \"hfl1_unhealthy_18\", \"bad\": false, \"np\": false, \"quant_proteins_count\": 1086, \"bad_or_np\": false}, {\"sample\": \"hfl1_unhealthy_8\", \"bad\": true, \"np\": false, \"quant_proteins_count\": 1089, \"bad_or_np\": true}, {\"sample\": \"hfl1_healthy_4\", \"bad\": false, \"np\": false, \"quant_proteins_count\": 1097, \"bad_or_np\": false}, {\"sample\": \"hfl1_unhealthy_37\", \"bad\": false, \"np\": false, \"quant_proteins_count\": 1110, \"bad_or_np\": false}, {\"sample\": \"hfl1_healthy_33\", \"bad\": false, \"np\": false, \"quant_proteins_count\": 1149, \"bad_or_np\": false}, {\"sample\": \"hfl1_healthy_2\", \"bad\": true, \"np\": false, \"quant_proteins_count\": 1167, \"bad_or_np\": true}, {\"sample\": \"hfl1_unhealthy_44\", \"bad\": false, \"np\": false, \"quant_proteins_count\": 1178, \"bad_or_np\": false}, {\"sample\": \"hfl1_healthy_1\", \"bad\": true, \"np\": false, \"quant_proteins_count\": 1182, \"bad_or_np\": true}, {\"sample\": \"hfl1_healthy_3\", \"bad\": true, \"np\": false, \"quant_proteins_count\": 1189, \"bad_or_np\": true}, {\"sample\": \"hfl1_healthy_22\", \"bad\": false, \"np\": false, \"quant_proteins_count\": 1201, \"bad_or_np\": false}, {\"sample\": \"hfl1_healthy_29\", \"bad\": false, \"np\": false, \"quant_proteins_count\": 1212, \"bad_or_np\": false}, {\"sample\": \"hfl1_unhealthy_21\", \"bad\": false, \"np\": false, \"quant_proteins_count\": 1219, \"bad_or_np\": false}, {\"sample\": \"hfl1_healthy_24\", \"bad\": false, \"np\": false, \"quant_proteins_count\": 1220, \"bad_or_np\": false}, {\"sample\": \"hfl1_unhealthy_5\", \"bad\": false, \"np\": false, \"quant_proteins_count\": 1220, \"bad_or_np\": false}, {\"sample\": \"hfl1_unhealthy_2\", \"bad\": false, \"np\": false, \"quant_proteins_count\": 1220, \"bad_or_np\": false}, {\"sample\": \"hfl1_healthy_43\", \"bad\": false, \"np\": false, \"quant_proteins_count\": 1227, \"bad_or_np\": false}, {\"sample\": \"hfl1_healthy_20\", \"bad\": false, \"np\": false, \"quant_proteins_count\": 1235, \"bad_or_np\": false}, {\"sample\": \"hfl1_healthy_16\", \"bad\": false, \"np\": false, \"quant_proteins_count\": 1235, \"bad_or_np\": false}, {\"sample\": \"hfl1_unhealthy_49\", \"bad\": false, \"np\": false, \"quant_proteins_count\": 1240, \"bad_or_np\": false}, {\"sample\": \"hfl1_healthy_7\", \"bad\": false, \"np\": false, \"quant_proteins_count\": 1244, \"bad_or_np\": false}, {\"sample\": \"hfl1_unhealthy_15\", \"bad\": true, \"np\": false, \"quant_proteins_count\": 1245, \"bad_or_np\": true}, {\"sample\": \"qc_3\", \"bad\": false, \"np\": false, \"quant_proteins_count\": 1254, \"bad_or_np\": false}, {\"sample\": \"hfl1_healthy_18\", \"bad\": false, \"np\": false, \"quant_proteins_count\": 1265, \"bad_or_np\": false}, {\"sample\": \"hfl1_healthy_12\", \"bad\": false, \"np\": false, \"quant_proteins_count\": 1266, \"bad_or_np\": false}, {\"sample\": \"hfl1_healthy_9\", \"bad\": false, \"np\": false, \"quant_proteins_count\": 1270, \"bad_or_np\": false}, {\"sample\": \"hfl1_healthy_41\", \"bad\": false, \"np\": false, \"quant_proteins_count\": 1271, \"bad_or_np\": false}, {\"sample\": \"hfl1_unhealthy_25\", \"bad\": false, \"np\": false, \"quant_proteins_count\": 1273, \"bad_or_np\": false}, {\"sample\": \"hfl1_healthy_31\", \"bad\": false, \"np\": false, \"quant_proteins_count\": 1281, \"bad_or_np\": false}, {\"sample\": \"hfl1_healthy_10\", \"bad\": false, \"np\": false, \"quant_proteins_count\": 1282, \"bad_or_np\": false}, {\"sample\": \"hfl1_unhealthy_14\", \"bad\": false, \"np\": false, \"quant_proteins_count\": 1282, \"bad_or_np\": false}, {\"sample\": \"hfl1_unhealthy_19\", \"bad\": false, \"np\": false, \"quant_proteins_count\": 1283, \"bad_or_np\": false}, {\"sample\": \"hfl1_unhealthy_38\", \"bad\": false, \"np\": false, \"quant_proteins_count\": 1284, \"bad_or_np\": false}, {\"sample\": \"hfl1_healthy_26\", \"bad\": false, \"np\": false, \"quant_proteins_count\": 1288, \"bad_or_np\": false}, {\"sample\": \"hfl1_unhealthy_10\", \"bad\": false, \"np\": false, \"quant_proteins_count\": 1293, \"bad_or_np\": false}, {\"sample\": \"boost_unhealthy_3\", \"bad\": false, \"np\": false, \"quant_proteins_count\": 1294, \"bad_or_np\": false}, {\"sample\": \"hfl1_unhealthy_3\", \"bad\": false, \"np\": false, \"quant_proteins_count\": 1294, \"bad_or_np\": false}, {\"sample\": \"hfl1_unhealthy_1\", \"bad\": false, \"np\": false, \"quant_proteins_count\": 1295, \"bad_or_np\": false}, {\"sample\": \"hfl1_unhealthy_4\", \"bad\": false, \"np\": false, \"quant_proteins_count\": 1296, \"bad_or_np\": false}, {\"sample\": \"hfl1_healthy_15\", \"bad\": false, \"np\": false, \"quant_proteins_count\": 1298, \"bad_or_np\": false}, {\"sample\": \"hfl1_healthy_11\", \"bad\": false, \"np\": false, \"quant_proteins_count\": 1305, \"bad_or_np\": false}, {\"sample\": \"hfl1_healthy_28\", \"bad\": false, \"np\": false, \"quant_proteins_count\": 1307, \"bad_or_np\": false}, {\"sample\": \"hfl1_unhealthy_42\", \"bad\": false, \"np\": false, \"quant_proteins_count\": 1310, \"bad_or_np\": false}, {\"sample\": \"hfl1_healthy_42\", \"bad\": false, \"np\": false, \"quant_proteins_count\": 1312, \"bad_or_np\": false}, {\"sample\": \"qc_1\", \"bad\": false, \"np\": false, \"quant_proteins_count\": 1313, \"bad_or_np\": false}, {\"sample\": \"hfl1_healthy_35\", \"bad\": false, \"np\": false, \"quant_proteins_count\": 1313, \"bad_or_np\": false}, {\"sample\": \"hfl1_healthy_32\", \"bad\": false, \"np\": false, \"quant_proteins_count\": 1315, \"bad_or_np\": false}, {\"sample\": \"hfl1_healthy_8\", \"bad\": false, \"np\": false, \"quant_proteins_count\": 1326, \"bad_or_np\": false}, {\"sample\": \"hfl1_healthy_27\", \"bad\": false, \"np\": false, \"quant_proteins_count\": 1331, \"bad_or_np\": false}, {\"sample\": \"hfl1_unhealthy_9\", \"bad\": false, \"np\": false, \"quant_proteins_count\": 1335, \"bad_or_np\": false}, {\"sample\": \"hfl1_unhealthy_48\", \"bad\": false, \"np\": false, \"quant_proteins_count\": 1339, \"bad_or_np\": false}, {\"sample\": \"hfl1_unhealthy_34\", \"bad\": false, \"np\": false, \"quant_proteins_count\": 1344, \"bad_or_np\": false}, {\"sample\": \"hfl1_healthy_36\", \"bad\": false, \"np\": false, \"quant_proteins_count\": 1344, \"bad_or_np\": false}, {\"sample\": \"hfl1_healthy_40\", \"bad\": false, \"np\": false, \"quant_proteins_count\": 1347, \"bad_or_np\": false}, {\"sample\": \"hfl1_unhealthy_46\", \"bad\": false, \"np\": false, \"quant_proteins_count\": 1349, \"bad_or_np\": false}, {\"sample\": \"hfl1_healthy_44\", \"bad\": false, \"np\": false, \"quant_proteins_count\": 1350, \"bad_or_np\": false}, {\"sample\": \"hfl1_healthy_6\", \"bad\": false, \"np\": false, \"quant_proteins_count\": 1355, \"bad_or_np\": false}, {\"sample\": \"hfl1_unhealthy_17\", \"bad\": false, \"np\": false, \"quant_proteins_count\": 1357, \"bad_or_np\": false}, {\"sample\": \"hfl1_healthy_19\", \"bad\": false, \"np\": false, \"quant_proteins_count\": 1359, \"bad_or_np\": false}, {\"sample\": \"qc_5\", \"bad\": false, \"np\": false, \"quant_proteins_count\": 1371, \"bad_or_np\": false}, {\"sample\": \"qc_2\", \"bad\": false, \"np\": false, \"quant_proteins_count\": 1372, \"bad_or_np\": false}, {\"sample\": \"hfl1_healthy_23\", \"bad\": false, \"np\": false, \"quant_proteins_count\": 1383, \"bad_or_np\": false}, {\"sample\": \"hfl1_unhealthy_47\", \"bad\": false, \"np\": false, \"quant_proteins_count\": 1389, \"bad_or_np\": false}, {\"sample\": \"pbulk_healthy_2\", \"bad\": false, \"np\": false, \"quant_proteins_count\": 1395, \"bad_or_np\": false}, {\"sample\": \"qc_6\", \"bad\": false, \"np\": false, \"quant_proteins_count\": 1444, \"bad_or_np\": false}, {\"sample\": \"boost_unhealthy_1\", \"bad\": false, \"np\": false, \"quant_proteins_count\": 1461, \"bad_or_np\": false}, {\"sample\": \"boost_unhealthy_2\", \"bad\": false, \"np\": false, \"quant_proteins_count\": 1473, \"bad_or_np\": false}, {\"sample\": \"pbulk_healthy_1\", \"bad\": false, \"np\": false, \"quant_proteins_count\": 1474, \"bad_or_np\": false}, {\"sample\": \"pbulk_unhealthy_2\", \"bad\": false, \"np\": false, \"quant_proteins_count\": 1475, \"bad_or_np\": false}, {\"sample\": \"pbulk_healthy_3\", \"bad\": false, \"np\": false, \"quant_proteins_count\": 1487, \"bad_or_np\": false}, {\"sample\": \"pbulk_unhealthy_1\", \"bad\": false, \"np\": false, \"quant_proteins_count\": 1489, \"bad_or_np\": false}, {\"sample\": \"pbulk_unhealthy_3\", \"bad\": false, \"np\": false, \"quant_proteins_count\": 1498, \"bad_or_np\": false}, {\"sample\": \"boost_healthy_1\", \"bad\": false, \"np\": false, \"quant_proteins_count\": 1505, \"bad_or_np\": false}, {\"sample\": \"boost_healthy_3\", \"bad\": false, \"np\": false, \"quant_proteins_count\": 1512, \"bad_or_np\": false}, {\"sample\": \"boost_healthy_2\", \"bad\": false, \"np\": false, \"quant_proteins_count\": 1519, \"bad_or_np\": false}]}}, {\"mode\": \"vega-lite\"});\n",
       "</script>"
      ],
      "text/plain": [
       "alt.Chart(...)"
      ]
     },
     "execution_count": 2,
     "metadata": {},
     "output_type": "execute_result"
    }
   ],
   "source": [
    "df = oscutils.load_protein_table(\"mm\").set_index([\"sample\", \"bad\", \"np\"]).notna().sum(axis=1).sort_values().to_frame().reset_index().rename(columns={0: \"quant_proteins_count\"})\n",
    "df = df.assign(bad_or_np=df[\"bad\"] | df[\"np\"])\n",
    "alt.Chart(df).mark_bar().encode(\n",
    "    x=\"sample\",\n",
    "    y=\"quant_proteins_count\",\n",
    "    color=\"bad_or_np\",\n",
    ")"
   ]
  }
 ],
 "metadata": {
  "kernelspec": {
   "display_name": "Python 3 (ipykernel)",
   "language": "python",
   "name": "python3"
  },
  "language_info": {
   "codemirror_mode": {
    "name": "ipython",
    "version": 3
   },
   "file_extension": ".py",
   "mimetype": "text/x-python",
   "name": "python",
   "nbconvert_exporter": "python",
   "pygments_lexer": "ipython3",
   "version": "3.10.11"
  }
 },
 "nbformat": 4,
 "nbformat_minor": 5
}
