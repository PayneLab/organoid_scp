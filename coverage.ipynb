{
 "cells": [
  {
   "cell_type": "code",
   "execution_count": 1,
   "id": "233a909e-5f66-4054-8bb8-31ebed42421b",
   "metadata": {
    "tags": []
   },
   "outputs": [],
   "source": [
    "import oscutils\n",
    "import pandas as pd\n",
    "\n",
    "pd.options.display.width = 224"
   ]
  },
  {
   "cell_type": "code",
   "execution_count": 2,
   "id": "8a7f0698-83fe-4857-99a7-1163b264c664",
   "metadata": {
    "tags": []
   },
   "outputs": [
    {
     "data": {
      "text/html": [
       "\n",
       "<div id=\"altair-viz-f65e3f8124d54ee6ac8a3cd027c7ea99\"></div>\n",
       "<script type=\"text/javascript\">\n",
       "  var VEGA_DEBUG = (typeof VEGA_DEBUG == \"undefined\") ? {} : VEGA_DEBUG;\n",
       "  (function(spec, embedOpt){\n",
       "    let outputDiv = document.currentScript.previousElementSibling;\n",
       "    if (outputDiv.id !== \"altair-viz-f65e3f8124d54ee6ac8a3cd027c7ea99\") {\n",
       "      outputDiv = document.getElementById(\"altair-viz-f65e3f8124d54ee6ac8a3cd027c7ea99\");\n",
       "    }\n",
       "    const paths = {\n",
       "      \"vega\": \"https://cdn.jsdelivr.net/npm//vega@5?noext\",\n",
       "      \"vega-lib\": \"https://cdn.jsdelivr.net/npm//vega-lib?noext\",\n",
       "      \"vega-lite\": \"https://cdn.jsdelivr.net/npm//vega-lite@4.17.0?noext\",\n",
       "      \"vega-embed\": \"https://cdn.jsdelivr.net/npm//vega-embed@6?noext\",\n",
       "    };\n",
       "\n",
       "    function maybeLoadScript(lib, version) {\n",
       "      var key = `${lib.replace(\"-\", \"\")}_version`;\n",
       "      return (VEGA_DEBUG[key] == version) ?\n",
       "        Promise.resolve(paths[lib]) :\n",
       "        new Promise(function(resolve, reject) {\n",
       "          var s = document.createElement('script');\n",
       "          document.getElementsByTagName(\"head\")[0].appendChild(s);\n",
       "          s.async = true;\n",
       "          s.onload = () => {\n",
       "            VEGA_DEBUG[key] = version;\n",
       "            return resolve(paths[lib]);\n",
       "          };\n",
       "          s.onerror = () => reject(`Error loading script: ${paths[lib]}`);\n",
       "          s.src = paths[lib];\n",
       "        });\n",
       "    }\n",
       "\n",
       "    function showError(err) {\n",
       "      outputDiv.innerHTML = `<div class=\"error\" style=\"color:red;\">${err}</div>`;\n",
       "      throw err;\n",
       "    }\n",
       "\n",
       "    function displayChart(vegaEmbed) {\n",
       "      vegaEmbed(outputDiv, spec, embedOpt)\n",
       "        .catch(err => showError(`Javascript Error: ${err.message}<br>This usually means there's a typo in your chart specification. See the javascript console for the full traceback.`));\n",
       "    }\n",
       "\n",
       "    if(typeof define === \"function\" && define.amd) {\n",
       "      requirejs.config({paths});\n",
       "      require([\"vega-embed\"], displayChart, err => showError(`Error loading script: ${err.message}`));\n",
       "    } else {\n",
       "      maybeLoadScript(\"vega\", \"5\")\n",
       "        .then(() => maybeLoadScript(\"vega-lite\", \"4.17.0\"))\n",
       "        .then(() => maybeLoadScript(\"vega-embed\", \"6\"))\n",
       "        .catch(showError)\n",
       "        .then(() => displayChart(vegaEmbed));\n",
       "    }\n",
       "  })({\"config\": {\"view\": {\"continuousWidth\": 400, \"continuousHeight\": 300}}, \"data\": {\"name\": \"data-f25e0e899a3cefb1fc39881bed9c0c3c\"}, \"mark\": \"bar\", \"encoding\": {\"x\": {\"field\": \"sample\", \"type\": \"nominal\"}, \"y\": {\"field\": \"quant_proteins_count\", \"type\": \"quantitative\"}}, \"$schema\": \"https://vega.github.io/schema/vega-lite/v4.17.0.json\", \"datasets\": {\"data-f25e0e899a3cefb1fc39881bed9c0c3c\": [{\"sample\": \"blank_01\", \"quant_proteins_count\": 23}, {\"sample\": \"qc_04\", \"quant_proteins_count\": 44}, {\"sample\": \"blank_02\", \"quant_proteins_count\": 46}, {\"sample\": \"hfl1_unhealthy_16\", \"quant_proteins_count\": 449}, {\"sample\": \"hfl1_healthy_30\", \"quant_proteins_count\": 472}, {\"sample\": \"hfl1_unhealthy_39\", \"quant_proteins_count\": 499}, {\"sample\": \"hfl1_unhealthy_07\", \"quant_proteins_count\": 709}, {\"sample\": \"hfl1_unhealthy_45\", \"quant_proteins_count\": 720}, {\"sample\": \"hfl1_healthy_17\", \"quant_proteins_count\": 787}, {\"sample\": \"hfl1_healthy_14\", \"quant_proteins_count\": 818}, {\"sample\": \"hfl1_healthy_25\", \"quant_proteins_count\": 821}, {\"sample\": \"hfl1_unhealthy_20\", \"quant_proteins_count\": 851}, {\"sample\": \"hfl1_healthy_39\", \"quant_proteins_count\": 902}, {\"sample\": \"hfl1_unhealthy_11\", \"quant_proteins_count\": 906}, {\"sample\": \"hfl1_unhealthy_24\", \"quant_proteins_count\": 927}, {\"sample\": \"hfl1_unhealthy_28\", \"quant_proteins_count\": 953}, {\"sample\": \"hfl1_unhealthy_50\", \"quant_proteins_count\": 976}, {\"sample\": \"hfl1_unhealthy_13\", \"quant_proteins_count\": 1000}, {\"sample\": \"hfl1_unhealthy_06\", \"quant_proteins_count\": 1003}, {\"sample\": \"hfl1_unhealthy_35\", \"quant_proteins_count\": 1006}, {\"sample\": \"hfl1_healthy_37\", \"quant_proteins_count\": 1013}, {\"sample\": \"hfl1_unhealthy_41\", \"quant_proteins_count\": 1078}, {\"sample\": \"hfl1_unhealthy_18\", \"quant_proteins_count\": 1086}, {\"sample\": \"hfl1_healthy_04\", \"quant_proteins_count\": 1097}, {\"sample\": \"hfl1_unhealthy_37\", \"quant_proteins_count\": 1110}, {\"sample\": \"hfl1_healthy_33\", \"quant_proteins_count\": 1149}, {\"sample\": \"hfl1_unhealthy_44\", \"quant_proteins_count\": 1178}, {\"sample\": \"hfl1_healthy_22\", \"quant_proteins_count\": 1201}, {\"sample\": \"hfl1_healthy_29\", \"quant_proteins_count\": 1212}, {\"sample\": \"hfl1_unhealthy_21\", \"quant_proteins_count\": 1219}, {\"sample\": \"hfl1_unhealthy_05\", \"quant_proteins_count\": 1220}, {\"sample\": \"hfl1_healthy_24\", \"quant_proteins_count\": 1220}, {\"sample\": \"hfl1_unhealthy_02\", \"quant_proteins_count\": 1220}, {\"sample\": \"hfl1_healthy_43\", \"quant_proteins_count\": 1227}, {\"sample\": \"hfl1_healthy_16\", \"quant_proteins_count\": 1235}, {\"sample\": \"hfl1_healthy_20\", \"quant_proteins_count\": 1235}, {\"sample\": \"hfl1_unhealthy_49\", \"quant_proteins_count\": 1240}, {\"sample\": \"hfl1_healthy_07\", \"quant_proteins_count\": 1244}, {\"sample\": \"qc_03\", \"quant_proteins_count\": 1254}, {\"sample\": \"hfl1_healthy_18\", \"quant_proteins_count\": 1265}, {\"sample\": \"hfl1_healthy_12\", \"quant_proteins_count\": 1266}, {\"sample\": \"hfl1_healthy_09\", \"quant_proteins_count\": 1270}, {\"sample\": \"hfl1_healthy_41\", \"quant_proteins_count\": 1271}, {\"sample\": \"hfl1_unhealthy_25\", \"quant_proteins_count\": 1273}, {\"sample\": \"hfl1_healthy_31\", \"quant_proteins_count\": 1281}, {\"sample\": \"hfl1_unhealthy_14\", \"quant_proteins_count\": 1282}, {\"sample\": \"hfl1_healthy_10\", \"quant_proteins_count\": 1282}, {\"sample\": \"hfl1_unhealthy_19\", \"quant_proteins_count\": 1283}, {\"sample\": \"hfl1_unhealthy_38\", \"quant_proteins_count\": 1284}, {\"sample\": \"hfl1_healthy_26\", \"quant_proteins_count\": 1288}, {\"sample\": \"hfl1_unhealthy_10\", \"quant_proteins_count\": 1293}, {\"sample\": \"boost_unhealthy_03\", \"quant_proteins_count\": 1294}, {\"sample\": \"hfl1_unhealthy_03\", \"quant_proteins_count\": 1294}, {\"sample\": \"hfl1_unhealthy_01\", \"quant_proteins_count\": 1295}, {\"sample\": \"hfl1_unhealthy_04\", \"quant_proteins_count\": 1296}, {\"sample\": \"hfl1_healthy_15\", \"quant_proteins_count\": 1298}, {\"sample\": \"hfl1_healthy_11\", \"quant_proteins_count\": 1305}, {\"sample\": \"hfl1_healthy_28\", \"quant_proteins_count\": 1307}, {\"sample\": \"hfl1_unhealthy_42\", \"quant_proteins_count\": 1310}, {\"sample\": \"hfl1_healthy_42\", \"quant_proteins_count\": 1312}, {\"sample\": \"hfl1_healthy_35\", \"quant_proteins_count\": 1313}, {\"sample\": \"qc_01\", \"quant_proteins_count\": 1313}, {\"sample\": \"hfl1_healthy_32\", \"quant_proteins_count\": 1315}, {\"sample\": \"hfl1_healthy_08\", \"quant_proteins_count\": 1326}, {\"sample\": \"hfl1_healthy_27\", \"quant_proteins_count\": 1331}, {\"sample\": \"hfl1_unhealthy_09\", \"quant_proteins_count\": 1335}, {\"sample\": \"hfl1_unhealthy_48\", \"quant_proteins_count\": 1339}, {\"sample\": \"hfl1_unhealthy_34\", \"quant_proteins_count\": 1344}, {\"sample\": \"hfl1_healthy_36\", \"quant_proteins_count\": 1344}, {\"sample\": \"hfl1_healthy_40\", \"quant_proteins_count\": 1347}, {\"sample\": \"hfl1_unhealthy_46\", \"quant_proteins_count\": 1349}, {\"sample\": \"hfl1_healthy_44\", \"quant_proteins_count\": 1350}, {\"sample\": \"hfl1_healthy_06\", \"quant_proteins_count\": 1355}, {\"sample\": \"hfl1_unhealthy_17\", \"quant_proteins_count\": 1357}, {\"sample\": \"hfl1_healthy_19\", \"quant_proteins_count\": 1359}, {\"sample\": \"qc_05\", \"quant_proteins_count\": 1371}, {\"sample\": \"qc_02\", \"quant_proteins_count\": 1372}, {\"sample\": \"hfl1_healthy_23\", \"quant_proteins_count\": 1383}, {\"sample\": \"hfl1_unhealthy_47\", \"quant_proteins_count\": 1389}, {\"sample\": \"pbulk_healthy_02\", \"quant_proteins_count\": 1395}, {\"sample\": \"qc_06\", \"quant_proteins_count\": 1444}, {\"sample\": \"boost_unhealthy_01\", \"quant_proteins_count\": 1461}, {\"sample\": \"boost_unhealthy_02\", \"quant_proteins_count\": 1473}, {\"sample\": \"pbulk_healthy_01\", \"quant_proteins_count\": 1474}, {\"sample\": \"pbulk_unhealthy_02\", \"quant_proteins_count\": 1475}, {\"sample\": \"pbulk_healthy_03\", \"quant_proteins_count\": 1487}, {\"sample\": \"pbulk_unhealthy_01\", \"quant_proteins_count\": 1489}, {\"sample\": \"pbulk_unhealthy_03\", \"quant_proteins_count\": 1498}, {\"sample\": \"boost_healthy_01\", \"quant_proteins_count\": 1505}, {\"sample\": \"boost_healthy_03\", \"quant_proteins_count\": 1512}, {\"sample\": \"boost_healthy_02\", \"quant_proteins_count\": 1519}]}}, {\"mode\": \"vega-lite\"});\n",
       "</script>"
      ],
      "text/plain": [
       "alt.Chart(...)"
      ]
     },
     "execution_count": 2,
     "metadata": {},
     "output_type": "execute_result"
    }
   ],
   "source": [
    "oscutils.make_proteins_counts_plot(source=\"mm\", quant_or_found=\"quant\", clean=True)"
   ]
  },
  {
   "cell_type": "code",
   "execution_count": 3,
   "id": "03587c35-323f-488f-86ea-74da972c138e",
   "metadata": {
    "tags": []
   },
   "outputs": [
    {
     "data": {
      "text/html": [
       "\n",
       "<div id=\"altair-viz-fd6e82f4f568408193a5508acdc08c3f\"></div>\n",
       "<script type=\"text/javascript\">\n",
       "  var VEGA_DEBUG = (typeof VEGA_DEBUG == \"undefined\") ? {} : VEGA_DEBUG;\n",
       "  (function(spec, embedOpt){\n",
       "    let outputDiv = document.currentScript.previousElementSibling;\n",
       "    if (outputDiv.id !== \"altair-viz-fd6e82f4f568408193a5508acdc08c3f\") {\n",
       "      outputDiv = document.getElementById(\"altair-viz-fd6e82f4f568408193a5508acdc08c3f\");\n",
       "    }\n",
       "    const paths = {\n",
       "      \"vega\": \"https://cdn.jsdelivr.net/npm//vega@5?noext\",\n",
       "      \"vega-lib\": \"https://cdn.jsdelivr.net/npm//vega-lib?noext\",\n",
       "      \"vega-lite\": \"https://cdn.jsdelivr.net/npm//vega-lite@4.17.0?noext\",\n",
       "      \"vega-embed\": \"https://cdn.jsdelivr.net/npm//vega-embed@6?noext\",\n",
       "    };\n",
       "\n",
       "    function maybeLoadScript(lib, version) {\n",
       "      var key = `${lib.replace(\"-\", \"\")}_version`;\n",
       "      return (VEGA_DEBUG[key] == version) ?\n",
       "        Promise.resolve(paths[lib]) :\n",
       "        new Promise(function(resolve, reject) {\n",
       "          var s = document.createElement('script');\n",
       "          document.getElementsByTagName(\"head\")[0].appendChild(s);\n",
       "          s.async = true;\n",
       "          s.onload = () => {\n",
       "            VEGA_DEBUG[key] = version;\n",
       "            return resolve(paths[lib]);\n",
       "          };\n",
       "          s.onerror = () => reject(`Error loading script: ${paths[lib]}`);\n",
       "          s.src = paths[lib];\n",
       "        });\n",
       "    }\n",
       "\n",
       "    function showError(err) {\n",
       "      outputDiv.innerHTML = `<div class=\"error\" style=\"color:red;\">${err}</div>`;\n",
       "      throw err;\n",
       "    }\n",
       "\n",
       "    function displayChart(vegaEmbed) {\n",
       "      vegaEmbed(outputDiv, spec, embedOpt)\n",
       "        .catch(err => showError(`Javascript Error: ${err.message}<br>This usually means there's a typo in your chart specification. See the javascript console for the full traceback.`));\n",
       "    }\n",
       "\n",
       "    if(typeof define === \"function\" && define.amd) {\n",
       "      requirejs.config({paths});\n",
       "      require([\"vega-embed\"], displayChart, err => showError(`Error loading script: ${err.message}`));\n",
       "    } else {\n",
       "      maybeLoadScript(\"vega\", \"5\")\n",
       "        .then(() => maybeLoadScript(\"vega-lite\", \"4.17.0\"))\n",
       "        .then(() => maybeLoadScript(\"vega-embed\", \"6\"))\n",
       "        .catch(showError)\n",
       "        .then(() => displayChart(vegaEmbed));\n",
       "    }\n",
       "  })({\"config\": {\"view\": {\"continuousWidth\": 400, \"continuousHeight\": 300}}, \"data\": {\"name\": \"data-b0b132d9fec18ec697ece100ce7df482\"}, \"mark\": \"bar\", \"encoding\": {\"color\": {\"field\": \"status\", \"scale\": {\"domain\": [\"Normal\", \"Contaminated\", \"No protein\", \"Contaminated, No protein\"], \"range\": [\"#4c78a8\", \"#e45756\", \"#f58518\", \"#b279a2\"]}, \"type\": \"nominal\"}, \"x\": {\"field\": \"sample\", \"type\": \"nominal\"}, \"y\": {\"field\": \"quant_proteins_count\", \"type\": \"quantitative\"}}, \"$schema\": \"https://vega.github.io/schema/vega-lite/v4.17.0.json\", \"datasets\": {\"data-b0b132d9fec18ec697ece100ce7df482\": [{\"sample\": \"blank_01\", \"bad\": false, \"np\": false, \"quant_proteins_count\": 23, \"status\": \"Normal\"}, {\"sample\": \"hfl1_healthy_05\", \"bad\": false, \"np\": true, \"quant_proteins_count\": 31, \"status\": \"No protein\"}, {\"sample\": \"qc_04\", \"bad\": false, \"np\": false, \"quant_proteins_count\": 44, \"status\": \"Normal\"}, {\"sample\": \"blank_02\", \"bad\": false, \"np\": false, \"quant_proteins_count\": 46, \"status\": \"Normal\"}, {\"sample\": \"hfl1_unhealthy_26\", \"bad\": false, \"np\": true, \"quant_proteins_count\": 386, \"status\": \"No protein\"}, {\"sample\": \"hfl1_unhealthy_29\", \"bad\": false, \"np\": true, \"quant_proteins_count\": 386, \"status\": \"No protein\"}, {\"sample\": \"hfl1_unhealthy_36\", \"bad\": false, \"np\": true, \"quant_proteins_count\": 402, \"status\": \"No protein\"}, {\"sample\": \"hfl1_unhealthy_33\", \"bad\": false, \"np\": true, \"quant_proteins_count\": 407, \"status\": \"No protein\"}, {\"sample\": \"hfl1_unhealthy_31\", \"bad\": false, \"np\": true, \"quant_proteins_count\": 410, \"status\": \"No protein\"}, {\"sample\": \"hfl1_unhealthy_27\", \"bad\": false, \"np\": true, \"quant_proteins_count\": 426, \"status\": \"No protein\"}, {\"sample\": \"hfl1_healthy_34\", \"bad\": false, \"np\": true, \"quant_proteins_count\": 429, \"status\": \"No protein\"}, {\"sample\": \"hfl1_healthy_21\", \"bad\": false, \"np\": true, \"quant_proteins_count\": 436, \"status\": \"No protein\"}, {\"sample\": \"hfl1_unhealthy_40\", \"bad\": false, \"np\": true, \"quant_proteins_count\": 437, \"status\": \"No protein\"}, {\"sample\": \"hfl1_unhealthy_32\", \"bad\": false, \"np\": true, \"quant_proteins_count\": 448, \"status\": \"No protein\"}, {\"sample\": \"hfl1_unhealthy_16\", \"bad\": false, \"np\": false, \"quant_proteins_count\": 449, \"status\": \"Normal\"}, {\"sample\": \"hfl1_healthy_30\", \"bad\": false, \"np\": false, \"quant_proteins_count\": 472, \"status\": \"Normal\"}, {\"sample\": \"hfl1_unhealthy_23\", \"bad\": false, \"np\": true, \"quant_proteins_count\": 473, \"status\": \"No protein\"}, {\"sample\": \"hfl1_healthy_38\", \"bad\": false, \"np\": true, \"quant_proteins_count\": 482, \"status\": \"No protein\"}, {\"sample\": \"hfl1_unhealthy_22\", \"bad\": false, \"np\": true, \"quant_proteins_count\": 489, \"status\": \"No protein\"}, {\"sample\": \"hfl1_unhealthy_39\", \"bad\": false, \"np\": false, \"quant_proteins_count\": 499, \"status\": \"Normal\"}, {\"sample\": \"hfl1_unhealthy_43\", \"bad\": false, \"np\": true, \"quant_proteins_count\": 511, \"status\": \"No protein\"}, {\"sample\": \"hfl1_unhealthy_30\", \"bad\": false, \"np\": true, \"quant_proteins_count\": 552, \"status\": \"No protein\"}, {\"sample\": \"hfl1_unhealthy_07\", \"bad\": false, \"np\": false, \"quant_proteins_count\": 709, \"status\": \"Normal\"}, {\"sample\": \"hfl1_unhealthy_45\", \"bad\": false, \"np\": false, \"quant_proteins_count\": 720, \"status\": \"Normal\"}, {\"sample\": \"hfl1_healthy_17\", \"bad\": false, \"np\": false, \"quant_proteins_count\": 787, \"status\": \"Normal\"}, {\"sample\": \"hfl1_healthy_14\", \"bad\": false, \"np\": false, \"quant_proteins_count\": 818, \"status\": \"Normal\"}, {\"sample\": \"hfl1_healthy_25\", \"bad\": false, \"np\": false, \"quant_proteins_count\": 821, \"status\": \"Normal\"}, {\"sample\": \"hfl1_unhealthy_20\", \"bad\": false, \"np\": false, \"quant_proteins_count\": 851, \"status\": \"Normal\"}, {\"sample\": \"hfl1_healthy_39\", \"bad\": false, \"np\": false, \"quant_proteins_count\": 902, \"status\": \"Normal\"}, {\"sample\": \"hfl1_unhealthy_11\", \"bad\": false, \"np\": false, \"quant_proteins_count\": 906, \"status\": \"Normal\"}, {\"sample\": \"hfl1_unhealthy_24\", \"bad\": false, \"np\": false, \"quant_proteins_count\": 927, \"status\": \"Normal\"}, {\"sample\": \"hfl1_unhealthy_28\", \"bad\": false, \"np\": false, \"quant_proteins_count\": 953, \"status\": \"Normal\"}, {\"sample\": \"hfl1_unhealthy_12\", \"bad\": true, \"np\": false, \"quant_proteins_count\": 955, \"status\": \"Contaminated\"}, {\"sample\": \"hfl1_unhealthy_50\", \"bad\": false, \"np\": false, \"quant_proteins_count\": 976, \"status\": \"Normal\"}, {\"sample\": \"hfl1_unhealthy_13\", \"bad\": false, \"np\": false, \"quant_proteins_count\": 1000, \"status\": \"Normal\"}, {\"sample\": \"hfl1_unhealthy_06\", \"bad\": false, \"np\": false, \"quant_proteins_count\": 1003, \"status\": \"Normal\"}, {\"sample\": \"hfl1_unhealthy_35\", \"bad\": false, \"np\": false, \"quant_proteins_count\": 1006, \"status\": \"Normal\"}, {\"sample\": \"hfl1_healthy_37\", \"bad\": false, \"np\": false, \"quant_proteins_count\": 1013, \"status\": \"Normal\"}, {\"sample\": \"hfl1_unhealthy_41\", \"bad\": false, \"np\": false, \"quant_proteins_count\": 1078, \"status\": \"Normal\"}, {\"sample\": \"hfl1_healthy_13\", \"bad\": true, \"np\": false, \"quant_proteins_count\": 1083, \"status\": \"Contaminated\"}, {\"sample\": \"hfl1_unhealthy_18\", \"bad\": false, \"np\": false, \"quant_proteins_count\": 1086, \"status\": \"Normal\"}, {\"sample\": \"hfl1_unhealthy_08\", \"bad\": true, \"np\": false, \"quant_proteins_count\": 1089, \"status\": \"Contaminated\"}, {\"sample\": \"hfl1_healthy_04\", \"bad\": false, \"np\": false, \"quant_proteins_count\": 1097, \"status\": \"Normal\"}, {\"sample\": \"hfl1_unhealthy_37\", \"bad\": false, \"np\": false, \"quant_proteins_count\": 1110, \"status\": \"Normal\"}, {\"sample\": \"hfl1_healthy_33\", \"bad\": false, \"np\": false, \"quant_proteins_count\": 1149, \"status\": \"Normal\"}, {\"sample\": \"hfl1_healthy_02\", \"bad\": true, \"np\": false, \"quant_proteins_count\": 1167, \"status\": \"Contaminated\"}, {\"sample\": \"hfl1_unhealthy_44\", \"bad\": false, \"np\": false, \"quant_proteins_count\": 1178, \"status\": \"Normal\"}, {\"sample\": \"hfl1_healthy_01\", \"bad\": true, \"np\": false, \"quant_proteins_count\": 1182, \"status\": \"Contaminated\"}, {\"sample\": \"hfl1_healthy_03\", \"bad\": true, \"np\": false, \"quant_proteins_count\": 1189, \"status\": \"Contaminated\"}, {\"sample\": \"hfl1_healthy_22\", \"bad\": false, \"np\": false, \"quant_proteins_count\": 1201, \"status\": \"Normal\"}, {\"sample\": \"hfl1_healthy_29\", \"bad\": false, \"np\": false, \"quant_proteins_count\": 1212, \"status\": \"Normal\"}, {\"sample\": \"hfl1_unhealthy_21\", \"bad\": false, \"np\": false, \"quant_proteins_count\": 1219, \"status\": \"Normal\"}, {\"sample\": \"hfl1_healthy_24\", \"bad\": false, \"np\": false, \"quant_proteins_count\": 1220, \"status\": \"Normal\"}, {\"sample\": \"hfl1_unhealthy_05\", \"bad\": false, \"np\": false, \"quant_proteins_count\": 1220, \"status\": \"Normal\"}, {\"sample\": \"hfl1_unhealthy_02\", \"bad\": false, \"np\": false, \"quant_proteins_count\": 1220, \"status\": \"Normal\"}, {\"sample\": \"hfl1_healthy_43\", \"bad\": false, \"np\": false, \"quant_proteins_count\": 1227, \"status\": \"Normal\"}, {\"sample\": \"hfl1_healthy_20\", \"bad\": false, \"np\": false, \"quant_proteins_count\": 1235, \"status\": \"Normal\"}, {\"sample\": \"hfl1_healthy_16\", \"bad\": false, \"np\": false, \"quant_proteins_count\": 1235, \"status\": \"Normal\"}, {\"sample\": \"hfl1_unhealthy_49\", \"bad\": false, \"np\": false, \"quant_proteins_count\": 1240, \"status\": \"Normal\"}, {\"sample\": \"hfl1_healthy_07\", \"bad\": false, \"np\": false, \"quant_proteins_count\": 1244, \"status\": \"Normal\"}, {\"sample\": \"hfl1_unhealthy_15\", \"bad\": true, \"np\": false, \"quant_proteins_count\": 1245, \"status\": \"Contaminated\"}, {\"sample\": \"qc_03\", \"bad\": false, \"np\": false, \"quant_proteins_count\": 1254, \"status\": \"Normal\"}, {\"sample\": \"hfl1_healthy_18\", \"bad\": false, \"np\": false, \"quant_proteins_count\": 1265, \"status\": \"Normal\"}, {\"sample\": \"hfl1_healthy_12\", \"bad\": false, \"np\": false, \"quant_proteins_count\": 1266, \"status\": \"Normal\"}, {\"sample\": \"hfl1_healthy_09\", \"bad\": false, \"np\": false, \"quant_proteins_count\": 1270, \"status\": \"Normal\"}, {\"sample\": \"hfl1_healthy_41\", \"bad\": false, \"np\": false, \"quant_proteins_count\": 1271, \"status\": \"Normal\"}, {\"sample\": \"hfl1_unhealthy_25\", \"bad\": false, \"np\": false, \"quant_proteins_count\": 1273, \"status\": \"Normal\"}, {\"sample\": \"hfl1_healthy_31\", \"bad\": false, \"np\": false, \"quant_proteins_count\": 1281, \"status\": \"Normal\"}, {\"sample\": \"hfl1_healthy_10\", \"bad\": false, \"np\": false, \"quant_proteins_count\": 1282, \"status\": \"Normal\"}, {\"sample\": \"hfl1_unhealthy_14\", \"bad\": false, \"np\": false, \"quant_proteins_count\": 1282, \"status\": \"Normal\"}, {\"sample\": \"hfl1_unhealthy_19\", \"bad\": false, \"np\": false, \"quant_proteins_count\": 1283, \"status\": \"Normal\"}, {\"sample\": \"hfl1_unhealthy_38\", \"bad\": false, \"np\": false, \"quant_proteins_count\": 1284, \"status\": \"Normal\"}, {\"sample\": \"hfl1_healthy_26\", \"bad\": false, \"np\": false, \"quant_proteins_count\": 1288, \"status\": \"Normal\"}, {\"sample\": \"hfl1_unhealthy_10\", \"bad\": false, \"np\": false, \"quant_proteins_count\": 1293, \"status\": \"Normal\"}, {\"sample\": \"boost_unhealthy_03\", \"bad\": false, \"np\": false, \"quant_proteins_count\": 1294, \"status\": \"Normal\"}, {\"sample\": \"hfl1_unhealthy_03\", \"bad\": false, \"np\": false, \"quant_proteins_count\": 1294, \"status\": \"Normal\"}, {\"sample\": \"hfl1_unhealthy_01\", \"bad\": false, \"np\": false, \"quant_proteins_count\": 1295, \"status\": \"Normal\"}, {\"sample\": \"hfl1_unhealthy_04\", \"bad\": false, \"np\": false, \"quant_proteins_count\": 1296, \"status\": \"Normal\"}, {\"sample\": \"hfl1_healthy_15\", \"bad\": false, \"np\": false, \"quant_proteins_count\": 1298, \"status\": \"Normal\"}, {\"sample\": \"hfl1_healthy_11\", \"bad\": false, \"np\": false, \"quant_proteins_count\": 1305, \"status\": \"Normal\"}, {\"sample\": \"hfl1_healthy_28\", \"bad\": false, \"np\": false, \"quant_proteins_count\": 1307, \"status\": \"Normal\"}, {\"sample\": \"hfl1_unhealthy_42\", \"bad\": false, \"np\": false, \"quant_proteins_count\": 1310, \"status\": \"Normal\"}, {\"sample\": \"hfl1_healthy_42\", \"bad\": false, \"np\": false, \"quant_proteins_count\": 1312, \"status\": \"Normal\"}, {\"sample\": \"qc_01\", \"bad\": false, \"np\": false, \"quant_proteins_count\": 1313, \"status\": \"Normal\"}, {\"sample\": \"hfl1_healthy_35\", \"bad\": false, \"np\": false, \"quant_proteins_count\": 1313, \"status\": \"Normal\"}, {\"sample\": \"hfl1_healthy_32\", \"bad\": false, \"np\": false, \"quant_proteins_count\": 1315, \"status\": \"Normal\"}, {\"sample\": \"hfl1_healthy_08\", \"bad\": false, \"np\": false, \"quant_proteins_count\": 1326, \"status\": \"Normal\"}, {\"sample\": \"hfl1_healthy_27\", \"bad\": false, \"np\": false, \"quant_proteins_count\": 1331, \"status\": \"Normal\"}, {\"sample\": \"hfl1_unhealthy_09\", \"bad\": false, \"np\": false, \"quant_proteins_count\": 1335, \"status\": \"Normal\"}, {\"sample\": \"hfl1_unhealthy_48\", \"bad\": false, \"np\": false, \"quant_proteins_count\": 1339, \"status\": \"Normal\"}, {\"sample\": \"hfl1_unhealthy_34\", \"bad\": false, \"np\": false, \"quant_proteins_count\": 1344, \"status\": \"Normal\"}, {\"sample\": \"hfl1_healthy_36\", \"bad\": false, \"np\": false, \"quant_proteins_count\": 1344, \"status\": \"Normal\"}, {\"sample\": \"hfl1_healthy_40\", \"bad\": false, \"np\": false, \"quant_proteins_count\": 1347, \"status\": \"Normal\"}, {\"sample\": \"hfl1_unhealthy_46\", \"bad\": false, \"np\": false, \"quant_proteins_count\": 1349, \"status\": \"Normal\"}, {\"sample\": \"hfl1_healthy_44\", \"bad\": false, \"np\": false, \"quant_proteins_count\": 1350, \"status\": \"Normal\"}, {\"sample\": \"hfl1_healthy_06\", \"bad\": false, \"np\": false, \"quant_proteins_count\": 1355, \"status\": \"Normal\"}, {\"sample\": \"hfl1_unhealthy_17\", \"bad\": false, \"np\": false, \"quant_proteins_count\": 1357, \"status\": \"Normal\"}, {\"sample\": \"hfl1_healthy_19\", \"bad\": false, \"np\": false, \"quant_proteins_count\": 1359, \"status\": \"Normal\"}, {\"sample\": \"qc_05\", \"bad\": false, \"np\": false, \"quant_proteins_count\": 1371, \"status\": \"Normal\"}, {\"sample\": \"qc_02\", \"bad\": false, \"np\": false, \"quant_proteins_count\": 1372, \"status\": \"Normal\"}, {\"sample\": \"hfl1_healthy_23\", \"bad\": false, \"np\": false, \"quant_proteins_count\": 1383, \"status\": \"Normal\"}, {\"sample\": \"hfl1_unhealthy_47\", \"bad\": false, \"np\": false, \"quant_proteins_count\": 1389, \"status\": \"Normal\"}, {\"sample\": \"pbulk_healthy_02\", \"bad\": false, \"np\": false, \"quant_proteins_count\": 1395, \"status\": \"Normal\"}, {\"sample\": \"qc_06\", \"bad\": false, \"np\": false, \"quant_proteins_count\": 1444, \"status\": \"Normal\"}, {\"sample\": \"boost_unhealthy_01\", \"bad\": false, \"np\": false, \"quant_proteins_count\": 1461, \"status\": \"Normal\"}, {\"sample\": \"boost_unhealthy_02\", \"bad\": false, \"np\": false, \"quant_proteins_count\": 1473, \"status\": \"Normal\"}, {\"sample\": \"pbulk_healthy_01\", \"bad\": false, \"np\": false, \"quant_proteins_count\": 1474, \"status\": \"Normal\"}, {\"sample\": \"pbulk_unhealthy_02\", \"bad\": false, \"np\": false, \"quant_proteins_count\": 1475, \"status\": \"Normal\"}, {\"sample\": \"pbulk_healthy_03\", \"bad\": false, \"np\": false, \"quant_proteins_count\": 1487, \"status\": \"Normal\"}, {\"sample\": \"pbulk_unhealthy_01\", \"bad\": false, \"np\": false, \"quant_proteins_count\": 1489, \"status\": \"Normal\"}, {\"sample\": \"pbulk_unhealthy_03\", \"bad\": false, \"np\": false, \"quant_proteins_count\": 1498, \"status\": \"Normal\"}, {\"sample\": \"boost_healthy_01\", \"bad\": false, \"np\": false, \"quant_proteins_count\": 1505, \"status\": \"Normal\"}, {\"sample\": \"boost_healthy_03\", \"bad\": false, \"np\": false, \"quant_proteins_count\": 1512, \"status\": \"Normal\"}, {\"sample\": \"boost_healthy_02\", \"bad\": false, \"np\": false, \"quant_proteins_count\": 1519, \"status\": \"Normal\"}]}}, {\"mode\": \"vega-lite\"});\n",
       "</script>"
      ],
      "text/plain": [
       "alt.Chart(...)"
      ]
     },
     "execution_count": 3,
     "metadata": {},
     "output_type": "execute_result"
    }
   ],
   "source": [
    "oscutils.make_proteins_counts_plot(source=\"mm\", quant_or_found=\"quant\", clean=False)"
   ]
  }
 ],
 "metadata": {
  "kernelspec": {
   "display_name": "Python 3 (ipykernel)",
   "language": "python",
   "name": "python3"
  },
  "language_info": {
   "codemirror_mode": {
    "name": "ipython",
    "version": 3
   },
   "file_extension": ".py",
   "mimetype": "text/x-python",
   "name": "python",
   "nbconvert_exporter": "python",
   "pygments_lexer": "ipython3",
   "version": "3.10.11"
  }
 },
 "nbformat": 4,
 "nbformat_minor": 5
}
